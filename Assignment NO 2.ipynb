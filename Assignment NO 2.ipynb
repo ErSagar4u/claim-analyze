{
 "cells": [
  {
   "cell_type": "code",
   "execution_count": 14,
   "id": "41a910da-a0f6-4b3b-bf54-66ec73964d1a",
   "metadata": {},
   "outputs": [
    {
     "name": "stdout",
     "output_type": "stream",
     "text": [
      "Headers: ['CLAIM_ID', 'CLAIM_DATE', 'CUSTOMER_ID', 'CLAIM_AMOUNT', 'PREMIUM_COLLECTED', 'PAID_AMOUNT', 'CITY', 'REJECTION_REMARKS']\n"
     ]
    }
   ],
   "source": [
    "with open(\"Insurance_auto_data.csv\", \"r\") as file:\n",
    "    lines = file.readlines()\n",
    "\n",
    "header = lines[0].strip().split(\",\")\n",
    "print(\"Headers:\", header)\n"
   ]
  },
  {
   "cell_type": "code",
   "execution_count": 41,
   "id": "5bdeb99a-29a4-481f-a97f-b81f5f10fc85",
   "metadata": {},
   "outputs": [
    {
     "name": "stdout",
     "output_type": "stream",
     "text": [
      "Data Loaded. Rows: 100\n"
     ]
    }
   ],
   "source": [
    "# Step 1: Read and Clean Data\n",
    "def clean_data(filepath):\n",
    "    with open(filepath, 'r') as f:\n",
    "        lines = f.readlines()\n",
    "\n",
    "    header = lines[0].strip().split(',')\n",
    "    data = []\n",
    "\n",
    "    for line in lines[1:]:\n",
    "        row = line.strip().split(',')\n",
    "        cleaned_row = []\n",
    "        for value in row:\n",
    "            value = value.strip()\n",
    "            if value == '' or value.lower() == 'na':\n",
    "                cleaned_row.append(None)\n",
    "            else:\n",
    "                try:\n",
    "                    if '.' in value:\n",
    "                        cleaned_row.append(float(value))\n",
    "                    else:\n",
    "                        cleaned_row.append(int(value))\n",
    "                except:\n",
    "                    cleaned_row.append(value)\n",
    "        data.append(cleaned_row)\n",
    "\n",
    "    return header, data\n",
    "\n",
    "# Load the data\n",
    "filename = \"Insurance_auto_data.csv\"\n",
    "header, data = clean_data(filename)\n",
    "print(\"Data Loaded. Rows:\", len(data))\n",
    "\n"
   ]
  },
  {
   "cell_type": "code",
   "execution_count": 37,
   "id": "183a1f64-a3ef-49c3-b2a9-56c564399b4b",
   "metadata": {},
   "outputs": [
    {
     "name": "stdout",
     "output_type": "stream",
     "text": [
      "CSV Columns: ['CLAIM_ID', 'CLAIM_DATE', 'CUSTOMER_ID', 'CLAIM_AMOUNT', 'PREMIUM_COLLECTED', 'PAID_AMOUNT', 'CITY', 'REJECTION_REMARKS']\n",
      "City Analysis:\n",
      "PUNE: {'claims': 37, 'amount': 1543919.0, 'rejected': 3}\n",
      "GUWAHATI: {'claims': 24, 'amount': 1148030.0, 'rejected': 3}\n",
      "RANCHI: {'claims': 17, 'amount': 570328.0, 'rejected': 2}\n",
      "KOLKATA: {'claims': 16, 'amount': 847893.0, 'rejected': 0}\n",
      "None: {'claims': 6, 'amount': 195448.0, 'rejected': 2}\n"
     ]
    }
   ],
   "source": [
    "# Print header to verify column names\n",
    "print(\"CSV Columns:\", header)\n",
    "\n",
    "# Step 2: City-Wise Analysis\n",
    "\n",
    "def city_analysis(header, data):\n",
    "    city_index = header.index('CITY')\n",
    "    claim_index = header.index('CLAIM_AMOUNT')\n",
    "    rejection_remarks_index = header.index('REJECTION_REMARKS')\n",
    "\n",
    "    city_stats = {}\n",
    "    for row in data:\n",
    "        city = row[city_index]\n",
    "        claim = row[claim_index]\n",
    "        rejection_remarks = row[rejection_remarks_index]\n",
    "\n",
    "        if city not in city_stats:\n",
    "            city_stats[city] = {'claims': 0, 'amount': 0, 'rejected': 0}\n",
    "\n",
    "        city_stats[city]['claims'] += 1\n",
    "        if isinstance(claim, (int, float)):\n",
    "            city_stats[city]['amount'] += claim\n",
    "\n",
    "        # If rejection remarks present, consider claim rejected\n",
    "        if rejection_remarks and rejection_remarks.strip():\n",
    "            city_stats[city]['rejected'] += 1\n",
    "\n",
    "    return city_stats\n",
    "\n",
    "# Run analysis and print\n",
    "stats = city_analysis(header, data)\n",
    "print(\"City Analysis:\")\n",
    "for city, stat in stats.items():\n",
    "    print(f\"{city}: {stat}\")\n",
    "\n"
   ]
  },
  {
   "cell_type": "code",
   "execution_count": 38,
   "id": "572a12e1-c628-4151-b2e5-e478401b8f36",
   "metadata": {},
   "outputs": [],
   "source": [
    "# Step 3: Fix complex_rejection_classifier from rejection_reason.py\n",
    "def complex_rejection_classifier(remark):\n",
    "    if not isinstance(remark, str):\n",
    "        return \"Invalid Remark\"\n",
    "    remark = remark.lower()\n",
    "\n",
    "    if 'document' in remark or 'missing' in remark:\n",
    "        return 'Documentation Issue'\n",
    "    elif 'fraud' in remark or 'fake' in remark:\n",
    "        return 'Fraudulent Claim'\n",
    "    elif 'not covered' in remark or 'policy' in remark:\n",
    "        return 'Policy Limitation'\n",
    "    else:\n",
    "        return 'Other Reason'\n"
   ]
  },
  {
   "cell_type": "code",
   "execution_count": 39,
   "id": "3813ce1b-8c73-43e3-939c-426736d50be2",
   "metadata": {},
   "outputs": [
    {
     "name": "stdout",
     "output_type": "stream",
     "text": [
      "Sample Rejection Classifications: ['No Remark', 'No Remark', 'No Remark', 'No Remark', 'No Remark']\n"
     ]
    }
   ],
   "source": [
    "# Step 4: Apply rejection classifier to remarks\n",
    "def apply_rejection_classification(header, data):\n",
    "    remarks_index = header.index(\"REJECTION_REMARKS\")\n",
    "    rejection_classes = []\n",
    "\n",
    "    for row in data:\n",
    "        remark = row[remarks_index]\n",
    "        if remark:\n",
    "            rejection_class = complex_rejection_classifier(remark)\n",
    "        else:\n",
    "            rejection_class = \"No Remark\"\n",
    "        rejection_classes.append(rejection_class)\n",
    "\n",
    "    return rejection_classes\n",
    "\n",
    "# Apply classification\n",
    "rejection_classes = apply_rejection_classification(header, data)\n",
    "print(\"Sample Rejection Classifications:\", rejection_classes[:5])\n"
   ]
  }
 ],
 "metadata": {
  "kernelspec": {
   "display_name": "Python 3 (ipykernel)",
   "language": "python",
   "name": "python3"
  },
  "language_info": {
   "codemirror_mode": {
    "name": "ipython",
    "version": 3
   },
   "file_extension": ".py",
   "mimetype": "text/x-python",
   "name": "python",
   "nbconvert_exporter": "python",
   "pygments_lexer": "ipython3",
   "version": "3.13.2"
  }
 },
 "nbformat": 4,
 "nbformat_minor": 5
}
